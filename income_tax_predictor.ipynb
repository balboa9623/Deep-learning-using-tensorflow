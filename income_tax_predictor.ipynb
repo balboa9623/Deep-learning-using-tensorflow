{
  "nbformat": 4,
  "nbformat_minor": 0,
  "metadata": {
    "colab": {
      "name": "income tax predictor.ipynb",
      "provenance": [],
      "collapsed_sections": [],
      "authorship_tag": "ABX9TyORWSwIVHdIobMkOfGSIr8v",
      "include_colab_link": true
    },
    "kernelspec": {
      "name": "python3",
      "display_name": "Python 3"
    }
  },
  "cells": [
    {
      "cell_type": "markdown",
      "metadata": {
        "id": "view-in-github",
        "colab_type": "text"
      },
      "source": [
        "<a href=\"https://colab.research.google.com/github/balboa9623/Deep-learning-using-tensorflow/blob/master/income_tax_predictor.ipynb\" target=\"_parent\"><img src=\"https://colab.research.google.com/assets/colab-badge.svg\" alt=\"Open In Colab\"/></a>"
      ]
    },
    {
      "cell_type": "code",
      "metadata": {
        "id": "Xz0OWybj_6u3",
        "colab_type": "code",
        "colab": {}
      },
      "source": [
        "import tensorflow as tf"
      ],
      "execution_count": 1,
      "outputs": []
    },
    {
      "cell_type": "code",
      "metadata": {
        "id": "M-6v6RacAdet",
        "colab_type": "code",
        "colab": {}
      },
      "source": [
        "import numpy as np\n",
        "import logging\n",
        "logger = tf.get_logger()\n",
        "logger.setLevel(logging.ERROR)"
      ],
      "execution_count": 2,
      "outputs": []
    },
    {
      "cell_type": "code",
      "metadata": {
        "id": "0b41jNINA9Al",
        "colab_type": "code",
        "colab": {
          "base_uri": "https://localhost:8080/",
          "height": 102
        },
        "outputId": "11e3d80a-37db-4740-bc50-2f44b9276a43"
      },
      "source": [
        "# Pay based on 2-weeks\n",
        "pay_before_tax = np.array([1200, 1300, 1200, 1198, 1200], dtype=float)\n",
        "pay_after_tax = np.array([982.09, 983, 982.09, 982.09, 982.09], dtype=float)\n",
        "\n",
        "for a, b in enumerate(pay_before_tax):\n",
        "  print(f\"pay before tax = {b} and pay after tax = {pay_after_tax[a]}\")"
      ],
      "execution_count": 13,
      "outputs": [
        {
          "output_type": "stream",
          "text": [
            "pay before tax = 1200.0 and pay after tax = 982.09\n",
            "pay before tax = 1300.0 and pay after tax = 983.0\n",
            "pay before tax = 1200.0 and pay after tax = 982.09\n",
            "pay before tax = 1198.0 and pay after tax = 982.09\n",
            "pay before tax = 1200.0 and pay after tax = 982.09\n"
          ],
          "name": "stdout"
        }
      ]
    },
    {
      "cell_type": "markdown",
      "metadata": {
        "id": "TK3i5vz_FQ32",
        "colab_type": "text"
      },
      "source": [
        "# Creating the model"
      ]
    },
    {
      "cell_type": "markdown",
      "metadata": {
        "id": "oGG2B7dSFl95",
        "colab_type": "text"
      },
      "source": [
        "\n",
        "\n",
        "> Build a layer\n",
        "\n"
      ]
    },
    {
      "cell_type": "code",
      "metadata": {
        "id": "Da91ZFBGFXc3",
        "colab_type": "code",
        "colab": {}
      },
      "source": [
        "lo = tf.keras.layers.Dense(units=1, input_shape = [1])"
      ],
      "execution_count": 4,
      "outputs": []
    },
    {
      "cell_type": "markdown",
      "metadata": {
        "id": "tu5Zao0OF53_",
        "colab_type": "text"
      },
      "source": [
        "\n",
        "\n",
        "> Assemble layers into the model\n",
        "\n"
      ]
    },
    {
      "cell_type": "code",
      "metadata": {
        "id": "wr2lcYRjF4ij",
        "colab_type": "code",
        "colab": {}
      },
      "source": [
        "model = tf.keras.Sequential(lo)"
      ],
      "execution_count": 5,
      "outputs": []
    },
    {
      "cell_type": "markdown",
      "metadata": {
        "id": "mcCun0hHGJoD",
        "colab_type": "text"
      },
      "source": [
        "# Compile the model, with loss and optimizer functions"
      ]
    },
    {
      "cell_type": "code",
      "metadata": {
        "id": "3mmob3Q4GEwX",
        "colab_type": "code",
        "colab": {}
      },
      "source": [
        "model.compile(loss='mean_squared_error', optimizer=tf.keras.optimizers.Adam(0.1))"
      ],
      "execution_count": 6,
      "outputs": []
    },
    {
      "cell_type": "markdown",
      "metadata": {
        "id": "pfuT2ZzeG2cr",
        "colab_type": "text"
      },
      "source": [
        "\n",
        "\n",
        "> Training the model\n",
        "\n"
      ]
    },
    {
      "cell_type": "code",
      "metadata": {
        "id": "CxgJB7MKGyS1",
        "colab_type": "code",
        "colab": {
          "base_uri": "https://localhost:8080/",
          "height": 34
        },
        "outputId": "c26e7f3b-95ec-4fce-d014-be80dc8c079e"
      },
      "source": [
        "history = model.fit(pay_before_tax, pay_after_tax, epochs=500, verbose=False)\n",
        "print(\"Finished training the model.\")"
      ],
      "execution_count": 7,
      "outputs": [
        {
          "output_type": "stream",
          "text": [
            "Finished training the model.\n"
          ],
          "name": "stdout"
        }
      ]
    },
    {
      "cell_type": "code",
      "metadata": {
        "id": "_DtU--DeHOSN",
        "colab_type": "code",
        "colab": {
          "base_uri": "https://localhost:8080/",
          "height": 297
        },
        "outputId": "89350afb-9a68-4060-9ad0-3a9bce2a539b"
      },
      "source": [
        "import matplotlib.pyplot as plt\n",
        "plt.xlabel('Epoch Number')\n",
        "plt.ylabel(\"Loss Magnitude\")\n",
        "plt.plot(history.history['loss'])"
      ],
      "execution_count": 8,
      "outputs": [
        {
          "output_type": "execute_result",
          "data": {
            "text/plain": [
              "[<matplotlib.lines.Line2D at 0x7fc2b2e48b70>]"
            ]
          },
          "metadata": {
            "tags": []
          },
          "execution_count": 8
        },
        {
          "output_type": "display_data",
          "data": {
            "image/png": "[encoded data removed]",
            "text/plain": [
              "<Figure size 432x288 with 1 Axes>"
            ]
          },
          "metadata": {
            "tags": [],
            "needs_background": "light"
          }
        }
      ]
    },
    {
      "cell_type": "markdown",
      "metadata": {
        "id": "j7teRjNfIEv4",
        "colab_type": "text"
      },
      "source": [
        "# **Use the model to predict values**"
      ]
    },
    {
      "cell_type": "code",
      "metadata": {
        "id": "j_zK67a5HR_M",
        "colab_type": "code",
        "colab": {
          "base_uri": "https://localhost:8080/",
          "height": 34
        },
        "outputId": "dc2c9578-ea0a-444a-bf95-df0b7f742807"
      },
      "source": [
        "print(model.predict([1200.0]))"
      ],
      "execution_count": 10,
      "outputs": [
        {
          "output_type": "stream",
          "text": [
            "[[982.0901]]\n"
          ],
          "name": "stdout"
        }
      ]
    },
    {
      "cell_type": "code",
      "metadata": {
        "id": "JFMhKH0IIY3f",
        "colab_type": "code",
        "colab": {}
      },
      "source": [
        ""
      ],
      "execution_count": 9,
      "outputs": []
    }
  ]
}